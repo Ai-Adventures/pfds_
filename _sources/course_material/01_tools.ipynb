{
 "cells": [
  {
   "cell_type": "markdown",
   "metadata": {},
   "source": [
    "# Google Colab "
   ]
  },
  {
   "cell_type": "markdown",
   "metadata": {},
   "source": [
    "## Python Programming Language\n",
    "\n",
    "In this data-driven age, Python has become an essential tool for many programmers, engineers, researchers, and data scientists across academia and industry.\n",
    "\n",
    "Being an AI start-up focused on building and promoting the Machine Learning and Data Science, we have found Python to be a near-perfect fit for the types of problems we face day to day, whether it's developing small web-apps, extracting meaning from large datasets, scraping and munging data collected from the Web, or automating day-to-day tasks.\n",
    "\n",
    "The appeal of Python is in its *simplicity* and *beauty*, as well as the convenience of the *large ecosystem* of domain-specific tools that have been built on top of it.\n",
    "\n",
    "No less important are the numerous other tools and packages which accompany these: if there is a scientific or data analysis task you want to perform, chances are someone has written a package that will do it for you.\n",
    "\n",
    "To tap into the power of this data science ecosystem, however, first requires familiarity with the Python language itself. Our aim, with this course, is that students will walk away with a solid foundation about python and programming (in general)."
   ]
  },
  {
   "cell_type": "markdown",
   "metadata": {},
   "source": [
    "## What is Google Colab\n",
    "\n",
    "Google Colab is an environment that runs completely on a cloud. It handles all the setup and configuration required for your program. So that you can start writing your first program."
   ]
  },
  {
   "cell_type": "markdown",
   "metadata": {},
   "source": [
    "Running code in Google Colab is as easy as signing in to your Gmail account. It requires just 2 steps. Yes, you heard it correct.\n",
    "   1. Sign into Google colab.\n",
    "   2. Create a new notebook.\n",
    "   \n",
    "You can just click on [this url](https://colab.research.google.com), and enter your email-id and you are done. And it will look as below:\n",
    "\n",
    "![](../images/colab.png)\n",
    "\n",
    "As soon as you complete the sign-in process, you are ready to use Google Colab. You may easily create a new Colab notebook on this page by clicking `File> New notebook`.\n",
    "\n",
    "Congratulations!! You have successfully created a Google Colab notebook within minutes. Now you can start wrtiting your code."
   ]
  }
 ],
 "metadata": {
  "kernelspec": {
   "display_name": "Python 3",
   "language": "python",
   "name": "python3"
  },
  "language_info": {
   "name": ""
  }
 },
 "nbformat": 4,
 "nbformat_minor": 4
}
